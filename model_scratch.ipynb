{
 "cells": [
  {
   "cell_type": "code",
   "outputs": [],
   "source": [
    "from functools import wraps\n",
    "import contextlib\n",
    "from typing import Optional\n",
    "from datetime import date\n",
    "from sqlalchemy import create_engine\n",
    "from sqlalchemy.orm import Session\n",
    "from sqlmodel import SQLModel, Field, Relationship\n",
    "from typing import List\n",
    "import os"
   ],
   "metadata": {
    "collapsed": false,
    "ExecuteTime": {
     "end_time": "2024-01-10T04:56:48.770718Z",
     "start_time": "2024-01-10T04:56:48.407229Z"
    }
   },
   "id": "e6bc72677ee691b",
   "execution_count": 6
  },
  {
   "cell_type": "code",
   "outputs": [],
   "source": [
    "def db_engine():\n",
    "    return create_engine(\"sqlite:///newswire.db\")\n",
    "\n",
    "def get_db_session():\n",
    "    engine = db_engine()\n",
    "    return Session(engine)\n",
    "\n",
    "class DatabaseSession:\n",
    "    def __init__(self):\n",
    "        self._session = None\n",
    "\n",
    "    @property\n",
    "    def session(self):\n",
    "        return self._session\n",
    "\n",
    "    def set_session(self, session):\n",
    "        self._session = session\n",
    "\n",
    "def db_session(func):\n",
    "    @wraps(func)\n",
    "    def wrapper(*args, **kwargs):\n",
    "        db = DatabaseSession()\n",
    "        with get_db_session() as session:\n",
    "            db.set_session(session)\n",
    "            result = func(db, *args, **kwargs)\n",
    "            session.commit()\n",
    "        return result\n",
    "    return wrapper"
   ],
   "metadata": {
    "collapsed": false,
    "ExecuteTime": {
     "end_time": "2024-01-10T04:56:48.775432Z",
     "start_time": "2024-01-10T04:56:48.771902Z"
    }
   },
   "id": "c3d6c9fe517f512a",
   "execution_count": 7
  },
  {
   "cell_type": "code",
   "outputs": [],
   "source": [
    "class Source(SQLModel, table=True):\n",
    "    id: int = Field(primary_key=True)\n",
    "    name: str = Field(nullable=False)\n",
    "    newswires: List[\"Newswire\"] = Relationship(back_populates=\"source\")\n",
    "\n",
    "class Newswire(SQLModel, table=True):\n",
    "    id: int = Field(primary_key=True)\n",
    "    title: str = Field(nullable=False)\n",
    "    article_md: Optional[str]\n",
    "    link: str = Field(nullable=False)\n",
    "    article_sum_md: Optional[str]\n",
    "    source_text: Optional[str]\n",
    "    llm_params: Optional[str]\n",
    "    date_created: date = Field(default=date.today(), nullable=False)\n",
    "    date_updated: date = Field(default=date.today(), nullable=False)\n",
    "    article_date: Optional[date]\n",
    "    tone: Optional[str]\n",
    "    emotional_impact: Optional[str]\n",
    "    word_count: Optional[int]\n",
    "    source_id: int = Field(foreign_key=\"source.id\")\n",
    "    source: Source = Relationship(back_populates=\"newswires\")\n",
    "    related_links: List[\"RelatedLink\"] = Relationship(back_populates=\"newswire\")\n",
    "\n",
    "class RelatedLink(SQLModel, table=True):\n",
    "    id: int = Field(primary_key=True)\n",
    "    url: str = Field(nullable=False)\n",
    "    description: Optional[str]\n",
    "    newswire_id: int = Field(foreign_key=\"newswire.id\")\n",
    "    newswire: Newswire = Relationship(back_populates=\"related_links\")\n",
    "\n",
    "# with SessionLocal() as session:\n",
    "#     SQLModel.metadata.drop_all(bind=session)"
   ],
   "metadata": {
    "collapsed": false,
    "ExecuteTime": {
     "end_time": "2024-01-10T04:56:48.795008Z",
     "start_time": "2024-01-10T04:56:48.778209Z"
    }
   },
   "id": "da85a3d5c6935eaa",
   "execution_count": 8
  },
  {
   "cell_type": "code",
   "outputs": [
    {
     "ename": "AttributeError",
     "evalue": "'Session' object has no attribute '_run_ddl_visitor'",
     "output_type": "error",
     "traceback": [
      "\u001B[0;31m---------------------------------------------------------------------------\u001B[0m",
      "\u001B[0;31mAttributeError\u001B[0m                            Traceback (most recent call last)",
      "Cell \u001B[0;32mIn[9], line 1\u001B[0m\n\u001B[0;32m----> 1\u001B[0m \u001B[43mSQLModel\u001B[49m\u001B[38;5;241;43m.\u001B[39;49m\u001B[43mmetadata\u001B[49m\u001B[38;5;241;43m.\u001B[39;49m\u001B[43mcreate_all\u001B[49m\u001B[43m(\u001B[49m\u001B[43mget_db_session\u001B[49m\u001B[43m(\u001B[49m\u001B[43m)\u001B[49m\u001B[43m)\u001B[49m\n",
      "File \u001B[0;32m~/workspace/projects/faris/open.brain.run/.venv/lib/python3.8/site-packages/sqlalchemy/sql/schema.py:5832\u001B[0m, in \u001B[0;36mMetaData.create_all\u001B[0;34m(self, bind, tables, checkfirst)\u001B[0m\n\u001B[1;32m   5808\u001B[0m \u001B[38;5;28;01mdef\u001B[39;00m \u001B[38;5;21mcreate_all\u001B[39m(\n\u001B[1;32m   5809\u001B[0m     \u001B[38;5;28mself\u001B[39m,\n\u001B[1;32m   5810\u001B[0m     bind: _CreateDropBind,\n\u001B[1;32m   5811\u001B[0m     tables: Optional[_typing_Sequence[Table]] \u001B[38;5;241m=\u001B[39m \u001B[38;5;28;01mNone\u001B[39;00m,\n\u001B[1;32m   5812\u001B[0m     checkfirst: \u001B[38;5;28mbool\u001B[39m \u001B[38;5;241m=\u001B[39m \u001B[38;5;28;01mTrue\u001B[39;00m,\n\u001B[1;32m   5813\u001B[0m ) \u001B[38;5;241m-\u001B[39m\u001B[38;5;241m>\u001B[39m \u001B[38;5;28;01mNone\u001B[39;00m:\n\u001B[1;32m   5814\u001B[0m \u001B[38;5;250m    \u001B[39m\u001B[38;5;124;03m\"\"\"Create all tables stored in this metadata.\u001B[39;00m\n\u001B[1;32m   5815\u001B[0m \n\u001B[1;32m   5816\u001B[0m \u001B[38;5;124;03m    Conditional by default, will not attempt to recreate tables already\u001B[39;00m\n\u001B[0;32m   (...)\u001B[0m\n\u001B[1;32m   5830\u001B[0m \n\u001B[1;32m   5831\u001B[0m \u001B[38;5;124;03m    \"\"\"\u001B[39;00m\n\u001B[0;32m-> 5832\u001B[0m     \u001B[43mbind\u001B[49m\u001B[38;5;241;43m.\u001B[39;49m\u001B[43m_run_ddl_visitor\u001B[49m(\n\u001B[1;32m   5833\u001B[0m         ddl\u001B[38;5;241m.\u001B[39mSchemaGenerator, \u001B[38;5;28mself\u001B[39m, checkfirst\u001B[38;5;241m=\u001B[39mcheckfirst, tables\u001B[38;5;241m=\u001B[39mtables\n\u001B[1;32m   5834\u001B[0m     )\n",
      "\u001B[0;31mAttributeError\u001B[0m: 'Session' object has no attribute '_run_ddl_visitor'"
     ]
    }
   ],
   "source": [
    "SQLModel.metadata.create_all(get_db_session())"
   ],
   "metadata": {
    "collapsed": false,
    "ExecuteTime": {
     "end_time": "2024-01-10T04:56:49.043214Z",
     "start_time": "2024-01-10T04:56:48.794703Z"
    }
   },
   "id": "243ff2e759eae791",
   "execution_count": 9
  },
  {
   "cell_type": "code",
   "outputs": [],
   "source": [
    "@db_session\n",
    "def create_news_wires(db, num_newswire_examples=5):\n",
    "        for i in range(num_newswire_examples):\n",
    "            src = Source(name=\"Howdy Example\")\n",
    "            nw = Newswire(title=f\"Newswire Example {i+1}\", link=f\"https://example.com/{i}\", source=src)\n",
    "            db.session.add(nw)\n",
    "        \n",
    "create_news_wires(5)\n"
   ],
   "metadata": {
    "collapsed": false,
    "ExecuteTime": {
     "start_time": "2024-01-10T04:56:49.040523Z"
    }
   },
   "id": "630b1869ae427007",
   "execution_count": null
  },
  {
   "cell_type": "code",
   "outputs": [],
   "source": [
    "from faker import Faker\n",
    "\n",
    "fake = Faker()\n",
    "\n",
    "@db_session\n",
    "def create_news_wires(db, num_newswire_examples=5):\n",
    "    for i in range(num_newswire_examples):\n",
    "        source_name = fake.company() \n",
    "        src = Source(name=source_name) \n",
    "        \n",
    "        nw_title = fake.catch_phrase()\n",
    "        nw_link = fake.url()\n",
    "        nw_article_md = fake.text()\n",
    "        nw_article_sum_md = fake.paragraph()\n",
    "        nw_source_text = fake.word()\n",
    "        nw_llm_params = fake.word()\n",
    "        nw_date_created = fake.date_this_year()\n",
    "        nw_date_updated = fake.date_this_year()\n",
    "        nw_article_date = fake.date_this_year()\n",
    "        nw_tone = fake.random_element(elements=('Positive', 'Negative', 'Neutral'))\n",
    "        nw_emotional_impact = fake.random_element(elements=('High', 'Medium', 'Low'))\n",
    "        nw_word_count = fake.random_int(min=200, max=2000, step=1)\n",
    "        \n",
    "        nw = Newswire(title=nw_title, link=nw_link, article_md=nw_article_md, article_sum_md=nw_article_sum_md, \n",
    "                      source_text=nw_source_text, llm_params=nw_llm_params, date_created=nw_date_created, \n",
    "                      date_updated=nw_date_updated, article_date=nw_article_date, tone=nw_tone, \n",
    "                      emotional_impact=nw_emotional_impact, word_count=nw_word_count, source=src)\n",
    "        \n",
    "        db.session.add(nw)\n",
    "        \n",
    "create_news_wires(50) #creating 50 newswires instances with respective sources"
   ],
   "metadata": {
    "collapsed": false,
    "ExecuteTime": {
     "end_time": "2024-01-10T04:56:54.883455Z",
     "start_time": "2024-01-10T04:56:54.719821Z"
    }
   },
   "id": "c76e51b734010ea4",
   "execution_count": 10
  },
  {
   "cell_type": "code",
   "outputs": [],
   "source": [],
   "metadata": {
    "collapsed": false
   },
   "id": "fb69a372b452555b"
  }
 ],
 "metadata": {
  "kernelspec": {
   "display_name": "Python 3",
   "language": "python",
   "name": "python3"
  },
  "language_info": {
   "codemirror_mode": {
    "name": "ipython",
    "version": 2
   },
   "file_extension": ".py",
   "mimetype": "text/x-python",
   "name": "python",
   "nbconvert_exporter": "python",
   "pygments_lexer": "ipython2",
   "version": "2.7.6"
  }
 },
 "nbformat": 4,
 "nbformat_minor": 5
}
